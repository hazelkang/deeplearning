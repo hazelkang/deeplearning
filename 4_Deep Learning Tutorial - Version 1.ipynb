{
 "cells": [
  {
   "cell_type": "markdown",
   "metadata": {},
   "source": [
    "# Deep Learning Tutorial - Version 1"
   ]
  },
  {
   "cell_type": "markdown",
   "metadata": {},
   "source": [
    "아직 안 배운 개념들도 일부 나옵니다. \n",
    "\n",
    "7~8주차에 배운 뒤 적용하면 되며 그 이전에는 default 값으로 설정해도 무방하니 충분히 할 수 있습니다."
   ]
  },
  {
   "cell_type": "markdown",
   "metadata": {},
   "source": [
    "-------"
   ]
  },
  {
   "cell_type": "markdown",
   "metadata": {},
   "source": [
    "## 1. data 업로드\n",
    "\n",
    "1) MNIST란?  손으로 쓴 글자 데이터셋에서 숫자만 따로 뽑아낸 데이터셋입니다. \n",
    "\n",
    "2) 0부터 255 사이의 값을 가지는 흑백이미지, 28*28사이즈, 7만개의 이미지(train=6만,test=1만)로 구성되어있습니다.\n",
    "\n",
    "3) 프로젝트 하실 때 data 업로드 방식은 이와 다릅니다. (향후 kaggle을 설명하면서 말씀 드리겠습니다.)\n",
    "\n",
    "4) tensorflow 내의 함수로 data를 한 번에 불러올 수 있는 함수가 있습니다.\n",
    "\n",
    "keras 공식문서: https://keras.io/datasets/#mnist-database-of-handwritten-digits \n",
    "\n",
    "tensorflow 공식문서: https://www.tensorflow.org/api_docs/python/tf/keras/datasets"
   ]
  },
  {
   "cell_type": "code",
   "execution_count": 1,
   "metadata": {},
   "outputs": [],
   "source": [
    "from tensorflow.keras.datasets import mnist"
   ]
  },
  {
   "cell_type": "markdown",
   "metadata": {},
   "source": [
    "그냥 소문자로 하겠습니다."
   ]
  },
  {
   "cell_type": "code",
   "execution_count": 2,
   "metadata": {},
   "outputs": [],
   "source": [
    "(x_train, y_train), (x_test, y_test) = mnist.load_data()"
   ]
  },
  {
   "cell_type": "code",
   "execution_count": 3,
   "metadata": {},
   "outputs": [
    {
     "data": {
      "text/plain": [
       "(60000, 28, 28)"
      ]
     },
     "execution_count": 3,
     "metadata": {},
     "output_type": "execute_result"
    }
   ],
   "source": [
    "x_train.shape"
   ]
  },
  {
   "cell_type": "markdown",
   "metadata": {},
   "source": [
    "-------"
   ]
  },
  {
   "cell_type": "markdown",
   "metadata": {},
   "source": [
    "## 2. data 확인"
   ]
  },
  {
   "cell_type": "markdown",
   "metadata": {},
   "source": [
    "1) 데이터를 소개하기 위해 필요한 과정입니다.\n",
    "\n",
    "2) 데이터가 잘 업로드 되었는지 확인하기 위해 필요한 과정입니다."
   ]
  },
  {
   "cell_type": "code",
   "execution_count": 4,
   "metadata": {},
   "outputs": [
    {
     "name": "stdout",
     "output_type": "stream",
     "text": [
      "3\n"
     ]
    },
    {
     "data": {
      "text/plain": [
       "<matplotlib.image.AxesImage at 0x9ba68285f8>"
      ]
     },
     "execution_count": 4,
     "metadata": {},
     "output_type": "execute_result"
    },
    {
     "data": {
      "image/png": "[encoded data removed]",
      "text/plain": [
       "<Figure size 432x288 with 1 Axes>"
      ]
     },
     "metadata": {
      "needs_background": "light"
     },
     "output_type": "display_data"
    }
   ],
   "source": [
    "import matplotlib.pyplot as plt # 그래프 그리는 라이브러리로 코세라 과제에서 많이 보셨을 겁니다.\n",
    "%matplotlib inline \n",
    "# 이 부분이 있어야 셀 안에 그림을 그릴 수 있습니다.\n",
    "\n",
    "index = 10 # index 설정에 따라 원하는 data를 골라서 그릴 수 있습니다.\n",
    "img = x_train[index]\n",
    "print(y_train[index])\n",
    "plt.imshow(img,cmap='gray')"
   ]
  },
  {
   "cell_type": "markdown",
   "metadata": {},
   "source": [
    "-------"
   ]
  },
  {
   "cell_type": "markdown",
   "metadata": {},
   "source": [
    "## 3. data preprocessing\n",
    "\n",
    "#### <font color=\"blue\"> data를 딥러닝 모델 안에 넣고 잘 train 될 수 있게 하는 모든 행위를 의미합니다."
   ]
  },
  {
   "cell_type": "markdown",
   "metadata": {},
   "source": [
    "1) tensorflow는 기본적으로 'float32'를 사용해서 혹시 모를 error를 방지해 astype을 사용해서 형변환한다.\n",
    "\n",
    "2) 이전에 잠시 언급된 normalization 또한 data pre-processing 과정에 속합니다.(test set까지 normalization 한다.) (7주차에 자세히 다룹니다.)\n",
    "\n",
    "3) flatten: Dense layer는 vector (1D-array)만 input으로 받을 수 있어서 3D-array를 flatten하는 과정\n",
    "\n",
    "(엄밀하게 얘기하면 (sample 개수, 세로 픽셀 수, 가로 픽셀 수[, channel 수] ) -> (sample 개수, feature 개수) 로의 변화)\n",
    "\n",
    "(mnist data는 grayscale data(흑백 data)여서 channel이 생략되어 있습니다.)\n",
    "\n",
    "4) one-hot encoding"
   ]
  },
  {
   "cell_type": "code",
   "execution_count": 5,
   "metadata": {},
   "outputs": [],
   "source": [
    "## 1) 형변환 (astype)\n",
    "\n",
    "x_train = x_train.astype('float32') # 32비트 실수형 / np.ndarray.astype은 numpy에 검색하면 형 변환 해주는 함수\n",
    "x_test = x_test.astype('float32')"
   ]
  },
  {
   "cell_type": "markdown",
   "metadata": {},
   "source": [
    "np.ndarray.astype: https://numpy.org/devdocs/reference/generated/numpy.ndarray.astype.html?highlight=astype#numpy.ndarray.astype"
   ]
  },
  {
   "cell_type": "code",
   "execution_count": 7,
   "metadata": {},
   "outputs": [
    {
     "data": {
      "text/plain": [
       "dtype('float32')"
      ]
     },
     "execution_count": 7,
     "metadata": {},
     "output_type": "execute_result"
    }
   ],
   "source": [
    "x_train.dtype"
   ]
  },
  {
   "cell_type": "code",
   "execution_count": 8,
   "metadata": {},
   "outputs": [],
   "source": [
    "## 2) normalize\n",
    "\n",
    "x_train /= 255\n",
    "x_test /= 255"
   ]
  },
  {
   "cell_type": "code",
   "execution_count": 9,
   "metadata": {},
   "outputs": [
    {
     "data": {
      "text/plain": [
       "(60000, 28, 28)"
      ]
     },
     "execution_count": 9,
     "metadata": {},
     "output_type": "execute_result"
    }
   ],
   "source": [
    "# cf> flatten 전\n",
    "\n",
    "x_train.shape"
   ]
  },
  {
   "cell_type": "code",
   "execution_count": 10,
   "metadata": {},
   "outputs": [],
   "source": [
    "## 3) flatten\n",
    "\n",
    "x_train = x_train.reshape(60000, 28*28)\n",
    "x_test = x_test.reshape(10000, 28*28)"
   ]
  },
  {
   "cell_type": "code",
   "execution_count": 11,
   "metadata": {},
   "outputs": [
    {
     "data": {
      "text/plain": [
       "(60000, 784)"
      ]
     },
     "execution_count": 11,
     "metadata": {},
     "output_type": "execute_result"
    }
   ],
   "source": [
    "# cf> flatten 후\n",
    "\n",
    "x_train.shape"
   ]
  },
  {
   "cell_type": "code",
   "execution_count": 12,
   "metadata": {},
   "outputs": [
    {
     "data": {
      "text/plain": [
       "array([5, 0, 4, ..., 5, 6, 8], dtype=uint8)"
      ]
     },
     "execution_count": 12,
     "metadata": {},
     "output_type": "execute_result"
    }
   ],
   "source": [
    "y_train"
   ]
  },
  {
   "cell_type": "code",
   "execution_count": null,
   "metadata": {},
   "outputs": [],
   "source": [
    "## 4) one-hot encoding\n",
    "\n",
    "\n",
    "'''from tensorflow.keras.utils import to_categorical\n",
    "\n",
    "to_categorical(y_train, 10) # convert class vector to binary class matirx\n",
    "to_categorical(y_test, 10)\n",
    "\n",
    "'''\n"
   ]
  },
  {
   "cell_type": "markdown",
   "metadata": {},
   "source": [
    "아직은 사용하지 않을 것입니다. 사용했을 때와 안 했을 때의 차이를 알아야 하기 때문입니다."
   ]
  },
  {
   "cell_type": "markdown",
   "metadata": {},
   "source": [
    "---------"
   ]
  },
  {
   "cell_type": "markdown",
   "metadata": {},
   "source": [
    "## 4. 모델 만들기\n",
    "\n",
    "### 1) tensorflow.keras.models.Sequential로 만든다.\n",
    "\n",
    "1> 첫 번째 layer는 input_dim(feature 개수)을 설정해야 한다.\n",
    "\n",
    "2> 마지막 layer는 우리가 진행하는 일이 regression, binary, multiclass이냐에 따라 다르게 설정한다."
   ]
  },
  {
   "cell_type": "code",
   "execution_count": 13,
   "metadata": {},
   "outputs": [],
   "source": [
    "from tensorflow.keras.models import Sequential\n",
    "from tensorflow.keras.layers import Activation, Dense\n",
    "# from tensorflow.keras import layers\n",
    "# from tensorflow.keras import optimizers"
   ]
  },
  {
   "cell_type": "code",
   "execution_count": 14,
   "metadata": {},
   "outputs": [],
   "source": [
    "model = Sequential()\n",
    "model.add(Dense(units=64, input_dim=28*28, activation='relu')) # input_dim 대신에 input_shape 사용 가능\n",
    "model.add(Dense(17, 'relu'))\n",
    "model.add(Dense(units=10, activation='softmax')) # 마지막 layer는 multiclass이니 activation을 softmax"
   ]
  },
  {
   "cell_type": "code",
   "execution_count": 15,
   "metadata": {},
   "outputs": [
    {
     "name": "stdout",
     "output_type": "stream",
     "text": [
      "Model: \"sequential\"\n",
      "_________________________________________________________________\n",
      "Layer (type)                 Output Shape              Param #   \n",
      "=================================================================\n",
      "dense (Dense)                (None, 64)                50240     \n",
      "_________________________________________________________________\n",
      "dense_1 (Dense)              (None, 17)                1105      \n",
      "_________________________________________________________________\n",
      "dense_2 (Dense)              (None, 10)                180       \n",
      "=================================================================\n",
      "Total params: 51,525\n",
      "Trainable params: 51,525\n",
      "Non-trainable params: 0\n",
      "_________________________________________________________________\n"
     ]
    }
   ],
   "source": [
    "model.summary()"
   ]
  },
  {
   "cell_type": "markdown",
   "metadata": {},
   "source": [
    "------"
   ]
  },
  {
   "cell_type": "code",
   "execution_count": 16,
   "metadata": {},
   "outputs": [],
   "source": [
    "model.compile(optimizer = 'adam', \n",
    "              loss = 'sparse_categorical_crossentropy', \n",
    "             metrics = ['accuracy'])"
   ]
  },
  {
   "cell_type": "markdown",
   "metadata": {},
   "source": [
    "---------"
   ]
  },
  {
   "cell_type": "markdown",
   "metadata": {},
   "source": [
    "## 6. 모델 학습\n",
    "\n",
    "### 1) fit 메서드를 이용\n",
    "\n",
    "#### <font color=\"blue\"> <shift + tab> \n",
    "    \n",
    "공식문서: https://keras.io/models/sequential/#fit\n",
    "    \n",
    "1> x: feature = input\n",
    "    \n",
    "2> y: label\n",
    "    \n",
    "3> epochs (7주차) (이전에 잠시 언급: 전체 training data를 train 하는 횟수)\n",
    "    \n",
    "4> verbose: train할 때 표시되는 bar (숫자를 추가할수록 기능이 추가되지만 보통 1을 사용\n",
    "    \n",
    "5> validation_split\n",
    "    \n",
    "* 여기서 data split을 할 수 있다.\n",
    "    \n",
    "* x로 들어가는 data 중 validation set에 할당할 비율을 할당한다. (0~1사이의 float)\n",
    "\n",
    "6> validation_data\n",
    "\n",
    "* 미리 data를 잘라 두었다면 'validation_data = (x_val, y_val)' 식으로 할당해도 된다.\n",
    "    \n",
    "나머지는 크게 중요하지 않습니다. (향후 등장할 개념: batch_size, callbacks)"
   ]
  },
  {
   "cell_type": "code",
   "execution_count": 17,
   "metadata": {},
   "outputs": [
    {
     "name": "stdout",
     "output_type": "stream",
     "text": [
      "Epoch 1/5\n",
      "1563/1563 [==============================] - 4s 3ms/step - accuracy: 0.9029 - loss: 0.3367 - val_loss: 0.1680 - val_accuracy: 0.9520\n",
      "Epoch 2/5\n",
      "1563/1563 [==============================] - 4s 2ms/step - accuracy: 0.9533 - loss: 0.1567 - val_loss: 0.1316 - val_accuracy: 0.9622\n",
      "Epoch 3/5\n",
      "1563/1563 [==============================] - 4s 2ms/step - accuracy: 0.9650 - loss: 0.1182 - val_loss: 0.1190 - val_accuracy: 0.9657\n",
      "Epoch 4/5\n",
      "1563/1563 [==============================] - 4s 2ms/step - accuracy: 0.9716 - loss: 0.0942 - val_loss: 0.1204 - val_accuracy: 0.9665\n",
      "Epoch 5/5\n",
      "1563/1563 [==============================] - 4s 3ms/step - accuracy: 0.9756 - loss: 0.0787 - val_loss: 0.1156 - val_accuracy: 0.9660\n"
     ]
    }
   ],
   "source": [
    "history = model.fit(x_train, y_train, validation_split=1/6, epochs=5)"
   ]
  },
  {
   "cell_type": "markdown",
   "metadata": {},
   "source": [
    "### 2) history\n",
    "\n",
    "1> model.fit의 return 값\n",
    "\n",
    "2> train 과정에서 일어나는 현상들을 기록"
   ]
  },
  {
   "cell_type": "code",
   "execution_count": 18,
   "metadata": {},
   "outputs": [
    {
     "data": {
      "text/plain": [
       "[0.33667096495628357,\n",
       " 0.15669727325439453,\n",
       " 0.11823294311761856,\n",
       " 0.09421992301940918,\n",
       " 0.07871531695127487]"
      ]
     },
     "execution_count": 18,
     "metadata": {},
     "output_type": "execute_result"
    }
   ],
   "source": [
    "history.history['loss']"
   ]
  },
  {
   "cell_type": "code",
   "execution_count": 19,
   "metadata": {},
   "outputs": [
    {
     "data": {
      "text/plain": [
       "{'_chief_worker_only': None,\n",
       " '_supports_tf_logs': False,\n",
       " 'epoch': [0, 1, 2, 3, 4],\n",
       " 'history': {'accuracy': [0.902899980545044,\n",
       "   0.9532600045204163,\n",
       "   0.9650400280952454,\n",
       "   0.9716200232505798,\n",
       "   0.9755600094795227],\n",
       "  'loss': [0.33667096495628357,\n",
       "   0.15669727325439453,\n",
       "   0.11823294311761856,\n",
       "   0.09421992301940918,\n",
       "   0.07871531695127487],\n",
       "  'val_accuracy': [0.9520000219345093,\n",
       "   0.9621999859809875,\n",
       "   0.9656999707221985,\n",
       "   0.9664999842643738,\n",
       "   0.9660000205039978],\n",
       "  'val_loss': [0.16803798079490662,\n",
       "   0.13162581622600555,\n",
       "   0.11899234354496002,\n",
       "   0.12037238478660583,\n",
       "   0.11560914665460587]},\n",
       " 'model': <tensorflow.python.keras.engine.sequential.Sequential at 0x9b9ad1f860>,\n",
       " 'params': {'epochs': 5, 'steps': 1563, 'verbose': 1},\n",
       " 'validation_data': None}"
      ]
     },
     "execution_count": 19,
     "metadata": {},
     "output_type": "execute_result"
    }
   ],
   "source": [
    "vars(history) # vars: python의 내장함수 / 해당 객체의 모듈, 클래스, 인스턴스의 값을 넘긴다."
   ]
  },
  {
   "cell_type": "markdown",
   "metadata": {},
   "source": [
    "-----"
   ]
  },
  {
   "cell_type": "markdown",
   "metadata": {},
   "source": [
    "cf> vars: python의 내장함수 / 해당 객체의 모듈, 클래스, 인스턴스의 값을 넘긴다."
   ]
  },
  {
   "cell_type": "code",
   "execution_count": 20,
   "metadata": {},
   "outputs": [],
   "source": [
    "class FourCal:\n",
    "    def __init__(self, first, second):\n",
    "        self.first = first\n",
    "        self.second = second\n",
    "    a = 1\n",
    "    \n",
    "    def setdata(self, first, second):\n",
    "        self.first = first\n",
    "        self.second = second\n",
    "    def add(self):\n",
    "        result = self.first + self.second\n",
    "        return result\n",
    "    def mul(self):\n",
    "        result = self.first * self.second\n",
    "        return result\n",
    "    def sub(self):\n",
    "        result = self.first - self.second\n",
    "        return result\n",
    "    def div(self):\n",
    "        result = self.first / self.second\n",
    "        return result"
   ]
  },
  {
   "cell_type": "code",
   "execution_count": 21,
   "metadata": {},
   "outputs": [
    {
     "data": {
      "text/plain": [
       "mappingproxy({'__dict__': <attribute '__dict__' of 'FourCal' objects>,\n",
       "              '__doc__': None,\n",
       "              '__init__': <function __main__.FourCal.__init__(self, first, second)>,\n",
       "              '__module__': '__main__',\n",
       "              '__weakref__': <attribute '__weakref__' of 'FourCal' objects>,\n",
       "              'a': 1,\n",
       "              'add': <function __main__.FourCal.add(self)>,\n",
       "              'div': <function __main__.FourCal.div(self)>,\n",
       "              'mul': <function __main__.FourCal.mul(self)>,\n",
       "              'setdata': <function __main__.FourCal.setdata(self, first, second)>,\n",
       "              'sub': <function __main__.FourCal.sub(self)>})"
      ]
     },
     "execution_count": 21,
     "metadata": {},
     "output_type": "execute_result"
    }
   ],
   "source": [
    "vars(FourCal)"
   ]
  },
  {
   "cell_type": "markdown",
   "metadata": {},
   "source": [
    "-------"
   ]
  },
  {
   "cell_type": "markdown",
   "metadata": {},
   "source": [
    "### cf> add 메서드의 단점\n",
    "\n",
    "#### <font color=\"green\"> 부족한 것 같으니 5번 더 해볼까?"
   ]
  },
  {
   "cell_type": "code",
   "execution_count": null,
   "metadata": {},
   "outputs": [],
   "source": [
    "history = model.fit(x_train, y_train, validation_split=1/6, epochs=5)"
   ]
  },
  {
   "cell_type": "markdown",
   "metadata": {},
   "source": [
    "#### <font color=\"green\"> 왜 이번에는 처음부터 좋지?\n",
    "    \n",
    "fit(epoch 5회)을 연달아서 하면 -> 이미 5회 학습된 상태에서 5회 추가로 학습하는 것이기 때문에 -> 현재 총 epoch이 10인 상황\n",
    "    \n",
    "#### <font color=\"green\"> 하지만 다른 epoch으로 처음부터 다시 하고 싶은데\n",
    "    \n",
    "1) del model을 하고 다시 코드 위부터 실행 (귀찮다.)\n",
    "    \n",
    "2) def 안에 model 만드는 과정을 가둔다. (있다가 version 2에서 한다.)"
   ]
  },
  {
   "cell_type": "markdown",
   "metadata": {},
   "source": [
    "-----------"
   ]
  },
  {
   "cell_type": "markdown",
   "metadata": {},
   "source": [
    "## 7. 학습과정 graph\n",
    "\n",
    "### 1) loss\n",
    "\n",
    "1> 위에서 학습한 내용을 토대로 train/val 의 loss값을 시각적으로 확인 하는 단계입니다.\n",
    "\n",
    "2> history.history = {'loss': ... , 'accuracy':... , 'val_loss': ... , 'val_accuracy': ...}이 각각 담겨있다."
   ]
  },
  {
   "cell_type": "code",
   "execution_count": 23,
   "metadata": {},
   "outputs": [
    {
     "data": {
      "image/png": "[encoded data removed]",
      "text/plain": [
       "<Figure size 432x288 with 1 Axes>"
      ]
     },
     "metadata": {
      "needs_background": "light"
     },
     "output_type": "display_data"
    }
   ],
   "source": [
    "import matplotlib.pyplot as plt\n",
    "\n",
    "loss = history.history['loss']\n",
    "val_loss = history.history['val_loss']\n",
    "\n",
    "epochs = range(1, len(loss) + 1)\n",
    "\n",
    "plt.plot(epochs, loss, 'r', label = 'Training loss')\n",
    "plt.plot(epochs, val_loss, 'b', label = 'Validation loss')\n",
    "plt.title('Training and validation loss')\n",
    "plt.xlabel('Epochs')\n",
    "plt.ylabel('Loss')\n",
    "plt.legend()       ## plt.legend - 동시에 여러개의 그래프를 그릴 때, 그래프마다 라벨을 달고 이 라벨명을 출력하는 기능을 합니다.\n",
    "\n",
    "plt.show()"
   ]
  },
  {
   "cell_type": "markdown",
   "metadata": {},
   "source": [
    "### 2) accuracy\n",
    "\n",
    "1> 위에서 학습한 내용을 토대로 train/val 의 accuracy값을 시각적으로 확인 하는 단계입니다."
   ]
  },
  {
   "cell_type": "code",
   "execution_count": 24,
   "metadata": {},
   "outputs": [
    {
     "data": {
      "image/png": "[encoded data removed]",
      "text/plain": [
       "<Figure size 432x288 with 1 Axes>"
      ]
     },
     "metadata": {
      "needs_background": "light"
     },
     "output_type": "display_data"
    }
   ],
   "source": [
    "acc = history.history['accuracy']\n",
    "val_acc = history.history['val_accuracy']\n",
    "\n",
    "plt.plot(epochs, acc, 'r', label = 'Training accuracy')\n",
    "plt.plot(epochs, val_acc, 'b', label = 'Validation accuracy')\n",
    "plt.title('Training and validation accuracy')\n",
    "plt.xlabel('Epochs')\n",
    "plt.ylabel('Accuracy')\n",
    "plt.legend()\n",
    "\n",
    "plt.show()"
   ]
  },
  {
   "cell_type": "markdown",
   "metadata": {},
   "source": [
    "---------------"
   ]
  },
  {
   "cell_type": "markdown",
   "metadata": {},
   "source": [
    "## 8. 최종 test\n",
    "\n",
    "### 1) evaluate 메서드를 이용\n",
    "\n",
    "0> test set으로 마지막 검증하는 과정\n",
    "\n",
    "#### <font color=\"blue\"> <shift + tab> \n",
    "    \n",
    "공식문서: https://keras.io/models/sequential/#evaluate\n",
    "\n",
    "1> x\n",
    "    \n",
    "2> y\n",
    "    \n",
    "3> verbose"
   ]
  },
  {
   "cell_type": "code",
   "execution_count": 25,
   "metadata": {},
   "outputs": [],
   "source": [
    "loss_and_metrics = model.evaluate(x_test, y_test, verbose=0) # return 값은 loss와 accuracy를 가지는 리스트"
   ]
  },
  {
   "cell_type": "markdown",
   "metadata": {},
   "source": [
    "loss_and_metrics"
   ]
  },
  {
   "cell_type": "code",
   "execution_count": 26,
   "metadata": {},
   "outputs": [
    {
     "name": "stdout",
     "output_type": "stream",
     "text": [
      "\n",
      "\n",
      "test_loss: 0.11970636993646622\n",
      "test_accuracy: 96.60999774932861%\n"
     ]
    }
   ],
   "source": [
    "print('\\n')\n",
    "print('test_loss: ' + str(loss_and_metrics[0]))\n",
    "print('test_accuracy: ' + str(loss_and_metrics[1]*100) + '%')"
   ]
  },
  {
   "cell_type": "code",
   "execution_count": null,
   "metadata": {},
   "outputs": [],
   "source": []
  }
 ],
 "metadata": {
  "kernelspec": {
   "display_name": "Python 3",
   "language": "python",
   "name": "python3"
  },
  "language_info": {
   "codemirror_mode": {
    "name": "ipython",
    "version": 3
   },
   "file_extension": ".py",
   "mimetype": "text/x-python",
   "name": "python",
   "nbconvert_exporter": "python",
   "pygments_lexer": "ipython3",
   "version": "3.5.4"
  }
 },
 "nbformat": 4,
 "nbformat_minor": 4
}
