{
 "cells": [
  {
   "cell_type": "code",
   "execution_count": 1,
   "metadata": {},
   "outputs": [],
   "source": [
    "import numpy as np"
   ]
  },
  {
   "cell_type": "code",
   "execution_count": 9,
   "metadata": {},
   "outputs": [
    {
     "data": {
      "text/plain": [
       "array([[ 3.,  2., -1.],\n",
       "       [ 1., -2.,  4.]])"
      ]
     },
     "execution_count": 9,
     "metadata": {},
     "output_type": "execute_result"
    }
   ],
   "source": [
    "np.random.seed(2)\n",
    "keepprob = 0.5\n",
    "a3 = np.array([[3., 2., -1.], [1., -2., 4.]])\n",
    "a3"
   ]
  },
  {
   "cell_type": "code",
   "execution_count": 10,
   "metadata": {},
   "outputs": [
    {
     "data": {
      "text/plain": [
       "array([[0.4359949 , 0.02592623, 0.54966248],\n",
       "       [0.43532239, 0.4203678 , 0.33033482]])"
      ]
     },
     "execution_count": 10,
     "metadata": {},
     "output_type": "execute_result"
    }
   ],
   "source": [
    "d3 = np.random.rand(a3.shape[0], a3.shape[1]) # rand 함수를 사용하면 각 element의 범위가 0~1사이이다.\n",
    "d3"
   ]
  },
  {
   "cell_type": "code",
   "execution_count": 11,
   "metadata": {},
   "outputs": [
    {
     "data": {
      "text/plain": [
       "array([[ True, False,  True],\n",
       "       [ True, False, False]])"
      ]
     },
     "execution_count": 11,
     "metadata": {},
     "output_type": "execute_result"
    }
   ],
   "source": [
    "d3_k = np.random.rand(a3.shape[0], a3.shape[1]) < keepprob # 그 원소들이 0.5보다 작을 확률이 0.5인 원리를 이용한다.\n",
    "d3_k"
   ]
  },
  {
   "cell_type": "code",
   "execution_count": 12,
   "metadata": {},
   "outputs": [
    {
     "data": {
      "text/plain": [
       "array([[ 1.30798471,  0.05185246, -0.54966248],\n",
       "       [ 0.43532239, -0.8407356 ,  1.32133928]])"
      ]
     },
     "execution_count": 12,
     "metadata": {},
     "output_type": "execute_result"
    }
   ],
   "source": [
    "a3_do = np.multiply(a3, d3) # dropout 진행한 것\n",
    "a3_do"
   ]
  },
  {
   "cell_type": "code",
   "execution_count": 13,
   "metadata": {},
   "outputs": [
    {
     "data": {
      "text/plain": [
       "array([[ 2.61596941,  0.10370493, -1.09932496],\n",
       "       [ 0.87064479, -1.68147121,  2.64267857]])"
      ]
     },
     "execution_count": 13,
     "metadata": {},
     "output_type": "execute_result"
    }
   ],
   "source": [
    "a3_scale = a3_do / keepprob # dropout으로 인해 output값이 절반(0.5)으로 줄어든 것을 0.5 나누어서 만회한다.(최종출력값이 급격하게 낮으면 안된다.)\n",
    "a3_scale"
   ]
  },
  {
   "cell_type": "code",
   "execution_count": 14,
   "metadata": {},
   "outputs": [
    {
     "name": "stdout",
     "output_type": "stream",
     "text": [
      "a3 =[[ 3.  2. -1.]\n",
      " [ 1. -2.  4.]]\n",
      "d3 =[[0.4359949  0.02592623 0.54966248]\n",
      " [0.43532239 0.4203678  0.33033482]]\n",
      "d3_k =[[ True False  True]\n",
      " [ True False False]]\n",
      "\n",
      "True = 1이고 False = 0입니다.\n",
      "\n",
      "a3_do =[[ 1.30798471  0.05185246 -0.54966248]\n",
      " [ 0.43532239 -0.8407356   1.32133928]]\n",
      "a3_scale[[ 2.61596941  0.10370493 -1.09932496]\n",
      " [ 0.87064479 -1.68147121  2.64267857]]\n"
     ]
    }
   ],
   "source": [
    "print('a3 ='+ str(a3))\n",
    "print('d3 ='+ str(d3))\n",
    "print('d3_k ='+ str(d3_k))\n",
    "print('\\nTrue = 1이고 False = 0입니다.\\n')\n",
    "print('a3_do ='+ str(a3_do))\n",
    "print('a3_scale' + str(a3_scale))"
   ]
  },
  {
   "cell_type": "code",
   "execution_count": null,
   "metadata": {},
   "outputs": [],
   "source": []
  },
  {
   "cell_type": "code",
   "execution_count": null,
   "metadata": {},
   "outputs": [],
   "source": []
  }
 ],
 "metadata": {
  "kernelspec": {
   "display_name": "Python 3",
   "language": "python",
   "name": "python3"
  },
  "language_info": {
   "codemirror_mode": {
    "name": "ipython",
    "version": 3
   },
   "file_extension": ".py",
   "mimetype": "text/x-python",
   "name": "python",
   "nbconvert_exporter": "python",
   "pygments_lexer": "ipython3",
   "version": "3.5.4"
  }
 },
 "nbformat": 4,
 "nbformat_minor": 4
}
