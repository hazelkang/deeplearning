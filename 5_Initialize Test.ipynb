{
 "cells": [
  {
   "cell_type": "markdown",
   "metadata": {},
   "source": [
    "# Initialize Test"
   ]
  },
  {
   "cell_type": "code",
   "execution_count": 1,
   "metadata": {},
   "outputs": [],
   "source": [
    "from tensorflow.keras.datasets import fashion_mnist\n",
    "\n",
    "(x,y), (x_test, y_test) = fashion_mnist.load_data()"
   ]
  },
  {
   "cell_type": "code",
   "execution_count": 7,
   "metadata": {},
   "outputs": [
    {
     "ename": "AttributeError",
     "evalue": "module 'tensorflow.keras.datasets.fashion_mnist' has no attribute 'head'",
     "output_type": "error",
     "traceback": [
      "\u001b[1;31m---------------------------------------------------------------------------\u001b[0m",
      "\u001b[1;31mAttributeError\u001b[0m                            Traceback (most recent call last)",
      "\u001b[1;32m<ipython-input-7-b73b18408820>\u001b[0m in \u001b[0;36m<module>\u001b[1;34m\u001b[0m\n\u001b[0;32m      1\u001b[0m \u001b[1;32mfrom\u001b[0m \u001b[0mtensorflow\u001b[0m\u001b[1;33m.\u001b[0m\u001b[0mkeras\u001b[0m\u001b[1;33m.\u001b[0m\u001b[0mdatasets\u001b[0m \u001b[1;32mimport\u001b[0m \u001b[0mfashion_mnist\u001b[0m\u001b[1;33m\u001b[0m\u001b[0m\n\u001b[1;32m----> 2\u001b[1;33m \u001b[0mfashion_mnist\u001b[0m\u001b[1;33m.\u001b[0m\u001b[0mhead\u001b[0m\u001b[1;33m(\u001b[0m\u001b[1;33m)\u001b[0m\u001b[1;33m\u001b[0m\u001b[0m\n\u001b[0m",
      "\u001b[1;31mAttributeError\u001b[0m: module 'tensorflow.keras.datasets.fashion_mnist' has no attribute 'head'"
     ]
    }
   ],
   "source": [
    "from tensorflow.keras.datasets import fashion_mnist\n",
    "fashion_mnist.head()"
   ]
  },
  {
   "cell_type": "code",
   "execution_count": 2,
   "metadata": {},
   "outputs": [],
   "source": [
    "from tensorflow.keras.utils import to_categorical\n",
    "\n",
    "x = x.astype('float32')\n",
    "x_test = x_test.astype('float32')\n",
    "\n",
    "x = x.reshape(60000,-1)\n",
    "x_test = x_test.reshape(10000,-1)\n",
    "\n",
    "x = x/255.\n",
    "x_test = x/ 255.\n",
    "\n",
    "y = to_categorical(y, 10)\n",
    "y_test = to_categorical(y_test, 10)"
   ]
  },
  {
   "cell_type": "code",
   "execution_count": 3,
   "metadata": {},
   "outputs": [],
   "source": [
    "from tensorflow.keras.models import Sequential\n",
    "from tensorflow.keras.layers import Dense"
   ]
  },
  {
   "cell_type": "code",
   "execution_count": 4,
   "metadata": {},
   "outputs": [],
   "source": [
    "def create_zero_initialize_model():\n",
    "    model = Sequential()\n",
    "    model.add(Dense(64, input_shape=(784,), activation = 'relu', kernel_initializer = 'zeros'))\n",
    "    model.add(Dense(128, activation = 'relu', kernel_initializer = 'zeros'))\n",
    "    model.add(Dense(256, activation = 'relu', kernel_initializer = 'zeros'))\n",
    "    model.add(Dense(10, activation = 'softmax',kernel_initializer = 'zeros'))\n",
    "    \n",
    "    model.compile(optimizer = 'adam', loss = 'categorical_crossentropy', metrics = ['accuracy'])\n",
    "    return model"
   ]
  },
  {
   "cell_type": "code",
   "execution_count": 5,
   "metadata": {},
   "outputs": [],
   "source": [
    "model = create_zero_initialize_model()"
   ]
  },
  {
   "cell_type": "code",
   "execution_count": 6,
   "metadata": {},
   "outputs": [
    {
     "name": "stdout",
     "output_type": "stream",
     "text": [
      "Epoch 1/5\n",
      "1/1 [==============================] - 0s 463ms/step - accuracy: 0.0995 - loss: 2.3026 - val_loss: 2.3026 - val_accuracy: 0.0955\n",
      "Epoch 2/5\n",
      "1/1 [==============================] - 0s 118ms/step - accuracy: 0.1009 - loss: 2.3026 - val_loss: 2.3026 - val_accuracy: 0.0955\n",
      "Epoch 3/5\n",
      "1/1 [==============================] - 0s 115ms/step - accuracy: 0.1009 - loss: 2.3026 - val_loss: 2.3027 - val_accuracy: 0.0955\n",
      "Epoch 4/5\n",
      "1/1 [==============================] - 0s 107ms/step - accuracy: 0.1009 - loss: 2.3026 - val_loss: 2.3027 - val_accuracy: 0.0955\n",
      "Epoch 5/5\n",
      "1/1 [==============================] - 0s 95ms/step - accuracy: 0.1009 - loss: 2.3026 - val_loss: 2.3027 - val_accuracy: 0.0955\n"
     ]
    },
    {
     "data": {
      "text/plain": [
       "<tensorflow.python.keras.callbacks.History at 0x19b240a588>"
      ]
     },
     "execution_count": 6,
     "metadata": {},
     "output_type": "execute_result"
    }
   ],
   "source": [
    "model.fit(x,y,epochs=5,validation_split=1/6, verbose=1, batch_size = 50000)"
   ]
  },
  {
   "cell_type": "code",
   "execution_count": null,
   "metadata": {},
   "outputs": [],
   "source": []
  }
 ],
 "metadata": {
  "kernelspec": {
   "display_name": "Python 3",
   "language": "python",
   "name": "python3"
  },
  "language_info": {
   "codemirror_mode": {
    "name": "ipython",
    "version": 3
   },
   "file_extension": ".py",
   "mimetype": "text/x-python",
   "name": "python",
   "nbconvert_exporter": "python",
   "pygments_lexer": "ipython3",
   "version": "3.5.4"
  }
 },
 "nbformat": 4,
 "nbformat_minor": 4
}
