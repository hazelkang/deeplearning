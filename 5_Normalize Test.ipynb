{
 "cells": [
  {
   "cell_type": "markdown",
   "metadata": {
    "colab_type": "text",
    "id": "55OCMvjUtS-1"
   },
   "source": [
    "# Normalize Test"
   ]
  },
  {
   "cell_type": "code",
   "execution_count": 1,
   "metadata": {
    "colab": {},
    "colab_type": "code",
    "id": "yEb0wq_2tS-2"
   },
   "outputs": [],
   "source": [
    "from tensorflow.keras.datasets import fashion_mnist\n",
    "\n",
    "(x,y), (x_test, y_test) = fashion_mnist.load_data()"
   ]
  },
  {
   "cell_type": "code",
   "execution_count": 2,
   "metadata": {
    "colab": {},
    "colab_type": "code",
    "id": "rYF_dCPftS-6"
   },
   "outputs": [],
   "source": [
    "from tensorflow.keras.utils import to_categorical\n",
    "\n",
    "x = x.astype('float32')\n",
    "x_test = x_test.astype('float32')\n",
    "\n",
    "x = x.reshape(60000,-1)\n",
    "x_test = x_test.reshape(10000,-1)\n",
    "'''\n",
    "x = x/255.\n",
    "x_test = x/ 255.\n",
    "'''\n",
    "y = to_categorical(y, 10)\n",
    "y_test = to_categorical(y_test, 10)"
   ]
  },
  {
   "cell_type": "code",
   "execution_count": 3,
   "metadata": {
    "colab": {},
    "colab_type": "code",
    "id": "r91yRNV6tS-_",
    "outputId": "e22745f8-e335-4e04-f2ba-381498a32743"
   },
   "outputs": [
    {
     "data": {
      "text/plain": [
       "255.0"
      ]
     },
     "execution_count": 3,
     "metadata": {},
     "output_type": "execute_result"
    }
   ],
   "source": [
    "import numpy as np\n",
    "\n",
    "np.max(x)"
   ]
  },
  {
   "cell_type": "code",
   "execution_count": 4,
   "metadata": {
    "colab": {},
    "colab_type": "code",
    "id": "iNmHaqputS_C"
   },
   "outputs": [],
   "source": [
    "from tensorflow.keras.models import Sequential\n",
    "from tensorflow.keras.layers import Dense"
   ]
  },
  {
   "cell_type": "code",
   "execution_count": 5,
   "metadata": {
    "colab": {},
    "colab_type": "code",
    "id": "cokPXNZotS_F"
   },
   "outputs": [],
   "source": [
    "def create_not_normalized_data_model():\n",
    "    model = Sequential()\n",
    "    model.add(Dense(64, input_shape=(784,), activation = 'relu'))\n",
    "    model.add(Dense(128, activation = 'relu'))\n",
    "    model.add(Dense(256, activation = 'relu'))\n",
    "    model.add(Dense(10, activation = 'softmax',kernel_initializer = 'zeros'))\n",
    "    \n",
    "    model.compile(optimizer = 'sgd', loss = 'categorical_crossentropy', metrics = ['accuracy'])\n",
    "    return model"
   ]
  },
  {
   "cell_type": "code",
   "execution_count": 6,
   "metadata": {
    "colab": {},
    "colab_type": "code",
    "id": "NjQdXveRtS_I"
   },
   "outputs": [],
   "source": [
    "model = create_not_normalized_data_model()"
   ]
  },
  {
   "cell_type": "code",
   "execution_count": 7,
   "metadata": {
    "colab": {},
    "colab_type": "code",
    "id": "9x8l8plYtS_K",
    "outputId": "0331031a-dedc-48ca-b4a5-d5b800815063"
   },
   "outputs": [
    {
     "name": "stdout",
     "output_type": "stream",
     "text": [
      "Epoch 1/5\n",
      "1563/1563 [==============================] - 5s 3ms/step - loss: 5.3476 - accuracy: 0.0995 - val_accuracy: 0.0955 - val_loss: 2.3028\n",
      "Epoch 2/5\n",
      "1563/1563 [==============================] - 4s 3ms/step - loss: 2.3027 - accuracy: 0.1000 - val_accuracy: 0.0970 - val_loss: 2.3028\n",
      "Epoch 3/5\n",
      "1563/1563 [==============================] - 4s 3ms/step - loss: 2.3027 - accuracy: 0.0998 - val_accuracy: 0.0955 - val_loss: 2.3028\n",
      "Epoch 4/5\n",
      "1563/1563 [==============================] - 4s 3ms/step - loss: 2.3027 - accuracy: 0.0989 - val_accuracy: 0.0955 - val_loss: 2.3027\n",
      "Epoch 5/5\n",
      "1563/1563 [==============================] - 5s 3ms/step - loss: 2.3027 - accuracy: 0.1005 - val_accuracy: 0.0970 - val_loss: 2.3028\n"
     ]
    },
    {
     "data": {
      "text/plain": [
       "<tensorflow.python.keras.callbacks.History at 0x38f28e0e10>"
      ]
     },
     "execution_count": 7,
     "metadata": {},
     "output_type": "execute_result"
    }
   ],
   "source": [
    "model.fit(x,y,epochs=5,validation_split=1/6, verbose=1)"
   ]
  },
  {
   "cell_type": "code",
   "execution_count": null,
   "metadata": {
    "colab": {},
    "colab_type": "code",
    "id": "aaNsch7YtS_O"
   },
   "outputs": [],
   "source": []
  }
 ],
 "metadata": {
  "colab": {
   "name": "Normalize Test.ipynb",
   "provenance": []
  },
  "kernelspec": {
   "display_name": "Python 3",
   "language": "python",
   "name": "python3"
  },
  "language_info": {
   "codemirror_mode": {
    "name": "ipython",
    "version": 3
   },
   "file_extension": ".py",
   "mimetype": "text/x-python",
   "name": "python",
   "nbconvert_exporter": "python",
   "pygments_lexer": "ipython3",
   "version": "3.5.4"
  }
 },
 "nbformat": 4,
 "nbformat_minor": 4
}
