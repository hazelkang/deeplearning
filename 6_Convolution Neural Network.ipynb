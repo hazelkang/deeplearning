{
 "cells": [
  {
   "cell_type": "markdown",
   "metadata": {
    "colab_type": "text",
    "id": "ZfsovmuwhvEZ"
   },
   "source": [
    "# Convolution Neural Network"
   ]
  },
  {
   "cell_type": "code",
   "execution_count": 1,
   "metadata": {
    "colab": {
     "base_uri": "https://localhost:8080/",
     "height": 1000
    },
    "colab_type": "code",
    "executionInfo": {
     "elapsed": 61238,
     "status": "ok",
     "timestamp": 1578073896740,
     "user": {
      "displayName": "정연석",
      "photoUrl": "https://lh3.googleusercontent.com/-gZ94XzEsiVI/AAAAAAAAAAI/AAAAAAAABsQ/3qNV3wm9oSg/s64/photo.jpg",
      "userId": "03404237444539233131"
     },
     "user_tz": -540
    },
    "id": "M7YMwTx0h2_g",
    "outputId": "46ea3564-f94a-4225-cf66-5b5304b739b1"
   },
   "outputs": [
    {
     "name": "stdout",
     "output_type": "stream",
     "text": [
      "Collecting tensorflow==2.0.0\n",
      "\u001b[?25l  Downloading https://files.pythonhosted.org/packages/46/0f/7bd55361168bb32796b360ad15a25de6966c9c1beb58a8e30c01c8279862/tensorflow-2.0.0-cp36-cp36m-manylinux2010_x86_64.whl (86.3MB)\n",
      "\u001b[K     |████████████████████████████████| 86.3MB 51kB/s \n",
      "\u001b[?25hRequirement already satisfied: gast==0.2.2 in /usr/local/lib/python3.6/dist-packages (from tensorflow==2.0.0) (0.2.2)\n",
      "Requirement already satisfied: opt-einsum>=2.3.2 in /usr/local/lib/python3.6/dist-packages (from tensorflow==2.0.0) (3.1.0)\n",
      "Requirement already satisfied: wheel>=0.26 in /usr/local/lib/python3.6/dist-packages (from tensorflow==2.0.0) (0.33.6)\n",
      "Requirement already satisfied: numpy<2.0,>=1.16.0 in /usr/local/lib/python3.6/dist-packages (from tensorflow==2.0.0) (1.17.4)\n",
      "Requirement already satisfied: six>=1.10.0 in /usr/local/lib/python3.6/dist-packages (from tensorflow==2.0.0) (1.12.0)\n",
      "Requirement already satisfied: absl-py>=0.7.0 in /usr/local/lib/python3.6/dist-packages (from tensorflow==2.0.0) (0.8.1)\n",
      "Requirement already satisfied: termcolor>=1.1.0 in /usr/local/lib/python3.6/dist-packages (from tensorflow==2.0.0) (1.1.0)\n",
      "Collecting tensorboard<2.1.0,>=2.0.0\n",
      "\u001b[?25l  Downloading https://files.pythonhosted.org/packages/76/54/99b9d5d52d5cb732f099baaaf7740403e83fe6b0cedde940fabd2b13d75a/tensorboard-2.0.2-py3-none-any.whl (3.8MB)\n",
      "\u001b[K     |████████████████████████████████| 3.8MB 45.4MB/s \n",
      "\u001b[?25hRequirement already satisfied: keras-preprocessing>=1.0.5 in /usr/local/lib/python3.6/dist-packages (from tensorflow==2.0.0) (1.1.0)\n",
      "Requirement already satisfied: wrapt>=1.11.1 in /usr/local/lib/python3.6/dist-packages (from tensorflow==2.0.0) (1.11.2)\n",
      "Requirement already satisfied: google-pasta>=0.1.6 in /usr/local/lib/python3.6/dist-packages (from tensorflow==2.0.0) (0.1.8)\n",
      "Collecting tensorflow-estimator<2.1.0,>=2.0.0\n",
      "\u001b[?25l  Downloading https://files.pythonhosted.org/packages/fc/08/8b927337b7019c374719145d1dceba21a8bb909b93b1ad6f8fb7d22c1ca1/tensorflow_estimator-2.0.1-py2.py3-none-any.whl (449kB)\n",
      "\u001b[K     |████████████████████████████████| 450kB 74.0MB/s \n",
      "\u001b[?25hRequirement already satisfied: keras-applications>=1.0.8 in /usr/local/lib/python3.6/dist-packages (from tensorflow==2.0.0) (1.0.8)\n",
      "Requirement already satisfied: protobuf>=3.6.1 in /usr/local/lib/python3.6/dist-packages (from tensorflow==2.0.0) (3.10.0)\n",
      "Requirement already satisfied: grpcio>=1.8.6 in /usr/local/lib/python3.6/dist-packages (from tensorflow==2.0.0) (1.15.0)\n",
      "Requirement already satisfied: astor>=0.6.0 in /usr/local/lib/python3.6/dist-packages (from tensorflow==2.0.0) (0.8.1)\n",
      "Requirement already satisfied: google-auth-oauthlib<0.5,>=0.4.1 in /usr/local/lib/python3.6/dist-packages (from tensorboard<2.1.0,>=2.0.0->tensorflow==2.0.0) (0.4.1)\n",
      "Requirement already satisfied: werkzeug>=0.11.15 in /usr/local/lib/python3.6/dist-packages (from tensorboard<2.1.0,>=2.0.0->tensorflow==2.0.0) (0.16.0)\n",
      "Requirement already satisfied: markdown>=2.6.8 in /usr/local/lib/python3.6/dist-packages (from tensorboard<2.1.0,>=2.0.0->tensorflow==2.0.0) (3.1.1)\n",
      "Requirement already satisfied: requests<3,>=2.21.0 in /usr/local/lib/python3.6/dist-packages (from tensorboard<2.1.0,>=2.0.0->tensorflow==2.0.0) (2.21.0)\n",
      "Collecting google-auth<2,>=1.6.3\n",
      "\u001b[?25l  Downloading https://files.pythonhosted.org/packages/36/f8/84b5771faec3eba9fe0c91c8c5896364a8ba08852c0dea5ad2025026dd95/google_auth-1.10.0-py2.py3-none-any.whl (76kB)\n",
      "\u001b[K     |████████████████████████████████| 81kB 14.4MB/s \n",
      "\u001b[?25hRequirement already satisfied: setuptools>=41.0.0 in /usr/local/lib/python3.6/dist-packages (from tensorboard<2.1.0,>=2.0.0->tensorflow==2.0.0) (42.0.2)\n",
      "Requirement already satisfied: h5py in /usr/local/lib/python3.6/dist-packages (from keras-applications>=1.0.8->tensorflow==2.0.0) (2.8.0)\n",
      "Requirement already satisfied: requests-oauthlib>=0.7.0 in /usr/local/lib/python3.6/dist-packages (from google-auth-oauthlib<0.5,>=0.4.1->tensorboard<2.1.0,>=2.0.0->tensorflow==2.0.0) (1.3.0)\n",
      "Requirement already satisfied: certifi>=2017.4.17 in /usr/local/lib/python3.6/dist-packages (from requests<3,>=2.21.0->tensorboard<2.1.0,>=2.0.0->tensorflow==2.0.0) (2019.11.28)\n",
      "Requirement already satisfied: urllib3<1.25,>=1.21.1 in /usr/local/lib/python3.6/dist-packages (from requests<3,>=2.21.0->tensorboard<2.1.0,>=2.0.0->tensorflow==2.0.0) (1.24.3)\n",
      "Requirement already satisfied: idna<2.9,>=2.5 in /usr/local/lib/python3.6/dist-packages (from requests<3,>=2.21.0->tensorboard<2.1.0,>=2.0.0->tensorflow==2.0.0) (2.8)\n",
      "Requirement already satisfied: chardet<3.1.0,>=3.0.2 in /usr/local/lib/python3.6/dist-packages (from requests<3,>=2.21.0->tensorboard<2.1.0,>=2.0.0->tensorflow==2.0.0) (3.0.4)\n",
      "Requirement already satisfied: pyasn1-modules>=0.2.1 in /usr/local/lib/python3.6/dist-packages (from google-auth<2,>=1.6.3->tensorboard<2.1.0,>=2.0.0->tensorflow==2.0.0) (0.2.7)\n",
      "Requirement already satisfied: cachetools<5.0,>=2.0.0 in /usr/local/lib/python3.6/dist-packages (from google-auth<2,>=1.6.3->tensorboard<2.1.0,>=2.0.0->tensorflow==2.0.0) (4.0.0)\n",
      "Requirement already satisfied: rsa<4.1,>=3.1.4 in /usr/local/lib/python3.6/dist-packages (from google-auth<2,>=1.6.3->tensorboard<2.1.0,>=2.0.0->tensorflow==2.0.0) (4.0)\n",
      "Requirement already satisfied: oauthlib>=3.0.0 in /usr/local/lib/python3.6/dist-packages (from requests-oauthlib>=0.7.0->google-auth-oauthlib<0.5,>=0.4.1->tensorboard<2.1.0,>=2.0.0->tensorflow==2.0.0) (3.1.0)\n",
      "Requirement already satisfied: pyasn1<0.5.0,>=0.4.6 in /usr/local/lib/python3.6/dist-packages (from pyasn1-modules>=0.2.1->google-auth<2,>=1.6.3->tensorboard<2.1.0,>=2.0.0->tensorflow==2.0.0) (0.4.8)\n",
      "\u001b[31mERROR: tensorboard 2.0.2 has requirement grpcio>=1.24.3, but you'll have grpcio 1.15.0 which is incompatible.\u001b[0m\n",
      "\u001b[31mERROR: google-colab 1.0.0 has requirement google-auth~=1.4.0, but you'll have google-auth 1.10.0 which is incompatible.\u001b[0m\n",
      "Installing collected packages: google-auth, tensorboard, tensorflow-estimator, tensorflow\n",
      "  Found existing installation: google-auth 1.4.2\n",
      "    Uninstalling google-auth-1.4.2:\n",
      "      Successfully uninstalled google-auth-1.4.2\n",
      "  Found existing installation: tensorboard 1.15.0\n",
      "    Uninstalling tensorboard-1.15.0:\n",
      "      Successfully uninstalled tensorboard-1.15.0\n",
      "  Found existing installation: tensorflow-estimator 1.15.1\n",
      "    Uninstalling tensorflow-estimator-1.15.1:\n",
      "      Successfully uninstalled tensorflow-estimator-1.15.1\n",
      "  Found existing installation: tensorflow 1.15.0\n",
      "    Uninstalling tensorflow-1.15.0:\n",
      "      Successfully uninstalled tensorflow-1.15.0\n",
      "Successfully installed google-auth-1.10.0 tensorboard-2.0.2 tensorflow-2.0.0 tensorflow-estimator-2.0.1\n"
     ]
    },
    {
     "data": {
      "application/vnd.colab-display-data+json": {
       "pip_warning": {
        "packages": [
         "google"
        ]
       }
      }
     },
     "metadata": {
      "tags": []
     },
     "output_type": "display_data"
    }
   ],
   "source": [
    "!pip install tensorflow==2.0.0"
   ]
  },
  {
   "cell_type": "markdown",
   "metadata": {
    "colab_type": "text",
    "id": "1ySxHTSdhvEm"
   },
   "source": [
    "## 1. data 업로드"
   ]
  },
  {
   "cell_type": "code",
   "execution_count": null,
   "metadata": {
    "colab": {},
    "colab_type": "code",
    "id": "XVa-s_nJhvEs"
   },
   "outputs": [],
   "source": [
    "from tensorflow.keras.datasets import fashion_mnist"
   ]
  },
  {
   "cell_type": "code",
   "execution_count": 2,
   "metadata": {
    "colab": {
     "base_uri": "https://localhost:8080/",
     "height": 166
    },
    "colab_type": "code",
    "executionInfo": {
     "elapsed": 2185,
     "status": "ok",
     "timestamp": 1578073921545,
     "user": {
      "displayName": "정연석",
      "photoUrl": "https://lh3.googleusercontent.com/-gZ94XzEsiVI/AAAAAAAAAAI/AAAAAAAABsQ/3qNV3wm9oSg/s64/photo.jpg",
      "userId": "03404237444539233131"
     },
     "user_tz": -540
    },
    "id": "TtLCzxO-hvE_",
    "outputId": "c61df8e9-6e4e-4f8a-ef52-28c661b2a5f5"
   },
   "outputs": [
    {
     "name": "stdout",
     "output_type": "stream",
     "text": [
      "Downloading data from https://storage.googleapis.com/tensorflow/tf-keras-datasets/train-labels-idx1-ubyte.gz\n",
      "32768/29515 [=================================] - 0s 0us/step\n",
      "Downloading data from https://storage.googleapis.com/tensorflow/tf-keras-datasets/train-images-idx3-ubyte.gz\n",
      "26427392/26421880 [==============================] - 0s 0us/step\n",
      "Downloading data from https://storage.googleapis.com/tensorflow/tf-keras-datasets/t10k-labels-idx1-ubyte.gz\n",
      "8192/5148 [===============================================] - 0s 0us/step\n",
      "Downloading data from https://storage.googleapis.com/tensorflow/tf-keras-datasets/t10k-images-idx3-ubyte.gz\n",
      "4423680/4422102 [==============================] - 0s 0us/step\n"
     ]
    }
   ],
   "source": [
    "(x, y), (x_test, y_test) = fashion_mnist.load_data()"
   ]
  },
  {
   "cell_type": "markdown",
   "metadata": {
    "colab_type": "text",
    "id": "CbskjrbvhvFM"
   },
   "source": [
    "------"
   ]
  },
  {
   "cell_type": "markdown",
   "metadata": {
    "colab_type": "text",
    "id": "mykpUFBChvFP"
   },
   "source": [
    "## 2. data 확인"
   ]
  },
  {
   "cell_type": "code",
   "execution_count": null,
   "metadata": {
    "colab": {},
    "colab_type": "code",
    "id": "sFocrCtvhvFU"
   },
   "outputs": [],
   "source": [
    "import matplotlib.pyplot as plt\n",
    "\n",
    "%matplotlib inline"
   ]
  },
  {
   "cell_type": "code",
   "execution_count": null,
   "metadata": {
    "colab": {},
    "colab_type": "code",
    "id": "elO2qbUphvFh"
   },
   "outputs": [],
   "source": [
    "class_names = ['T-shirt/top', 'Trouser', 'Pullover', 'Dress', 'Coat',\n",
    "               'Sandal', 'Shirt', 'Sneaker', 'Bag', 'Ankle boot']"
   ]
  },
  {
   "cell_type": "code",
   "execution_count": 5,
   "metadata": {
    "colab": {
     "base_uri": "https://localhost:8080/",
     "height": 302
    },
    "colab_type": "code",
    "executionInfo": {
     "elapsed": 931,
     "status": "ok",
     "timestamp": 1578073924220,
     "user": {
      "displayName": "정연석",
      "photoUrl": "https://lh3.googleusercontent.com/-gZ94XzEsiVI/AAAAAAAAAAI/AAAAAAAABsQ/3qNV3wm9oSg/s64/photo.jpg",
      "userId": "03404237444539233131"
     },
     "user_tz": -540
    },
    "id": "E4Ht_GTUhvFv",
    "outputId": "9beab17f-f4e9-429c-b1f4-6044f0ae2ca2"
   },
   "outputs": [
    {
     "name": "stdout",
     "output_type": "stream",
     "text": [
      "9 == Ankle boot\n"
     ]
    },
    {
     "data": {
      "text/plain": [
       "<matplotlib.image.AxesImage at 0x7f93fb270160>"
      ]
     },
     "execution_count": 5,
     "metadata": {
      "tags": []
     },
     "output_type": "execute_result"
    },
    {
     "data": {
      "image/png": "[encoded data removed]",
      "text/plain": [
       "<Figure size 432x288 with 1 Axes>"
      ]
     },
     "metadata": {
      "tags": []
     },
     "output_type": "display_data"
    }
   ],
   "source": [
    "index = 0 # index 설정에 따라 원하는 data를 골라서 그릴 수 있고 / 0~59999까지 대입 가능합니다.\n",
    "print(str(y[index]) + ' == ' + str(class_names[y[index]]))\n",
    "img = x[index]\n",
    "plt.imshow(img, cmap='gray')"
   ]
  },
  {
   "cell_type": "markdown",
   "metadata": {
    "colab_type": "text",
    "id": "6lQvcPdihvGC"
   },
   "source": [
    "--------"
   ]
  },
  {
   "cell_type": "markdown",
   "metadata": {
    "colab_type": "text",
    "id": "NFYTsxc8hvGH"
   },
   "source": [
    "## 3. data preprocess\n",
    "\n",
    "#### 무엇을 해야할까요?"
   ]
  },
  {
   "cell_type": "markdown",
   "metadata": {
    "colab_type": "text",
    "id": "1CS-sZMAhvGL",
    "jupyter": {
     "source_hidden": true
    }
   },
   "source": [
    "1) 형 변환\n",
    "\n",
    "2) normalize\n",
    "\n",
    "3) one-hot encoding\n",
    "\n",
    "4) flatten(X) reshape(O)"
   ]
  },
  {
   "cell_type": "code",
   "execution_count": null,
   "metadata": {
    "colab": {},
    "colab_type": "code",
    "id": "iNfZgrdnhvGO"
   },
   "outputs": [],
   "source": [
    "from tensorflow.keras.utils import to_categorical\n",
    "import numpy as np"
   ]
  },
  {
   "cell_type": "code",
   "execution_count": null,
   "metadata": {
    "colab": {},
    "colab_type": "code",
    "id": "joKbybARhvGb"
   },
   "outputs": [],
   "source": [
    "# 1) 형 변환\n",
    "\n",
    "x = x.astype('float32') # 32비트 실수형 / np.ndarray.astype은 numpy에 검색하면 형 변환 해주는 함수\n",
    "x_test = x_test.astype('float32')\n",
    "\n",
    "# 2) normalize\n",
    "\n",
    "x, x_test = x/255., x_test/255.\n",
    "\n",
    "# 3) one-hot encoding\n",
    "\n",
    "y = to_categorical(y, 10)\n",
    "y_test = to_categorical(y_test,10)"
   ]
  },
  {
   "cell_type": "markdown",
   "metadata": {
    "colab_type": "text",
    "id": "vzp2yVT4hvGl"
   },
   "source": [
    "#### 하지만 중요 point가 있습니다.\n",
    "\n",
    "#### <font color=\"blue\"> Dense layer는 dimension이 몇인 ndarray를 받을까요?"
   ]
  },
  {
   "cell_type": "markdown",
   "metadata": {
    "colab_type": "text",
    "id": "lPRNaDdRhvGs"
   },
   "source": [
    "#### <font color=\"red\"> 2D array\n",
    "\n",
    "why??"
   ]
  },
  {
   "cell_type": "markdown",
   "metadata": {
    "colab_type": "text",
    "id": "PjjrzckNhvGw"
   },
   "source": [
    "vector(1D array)를 받지만 data 개수로 vectorization된 형태를 받기 때문입니다.)\n",
    "\n",
    "즉, shape (m, n_x) 형태를 받습니다. (기존 course 1에서 배운 것과 다르게 m을 맨 앞으로 빼줍니다./ 이유가 있습니다.)\n",
    "\n",
    "결론: 우리가 생각하는 shape에서 맨 앞에 data 개수로 dimension을 추가한 형태를 받습니다."
   ]
  },
  {
   "cell_type": "markdown",
   "metadata": {
    "colab_type": "text",
    "id": "f4MCfDRxhvG0"
   },
   "source": [
    "#### <font color=\"blue\"> Convolution layer는 dimension이 몇인 ndarray를 받을까요?"
   ]
  },
  {
   "cell_type": "markdown",
   "metadata": {
    "colab_type": "text",
    "id": "3wx5rDy9hvG5"
   },
   "source": [
    "#### <font color=\"red\"> 4D array\n",
    "\n",
    "(세로 픽셀, 가로 픽셀, channel)을 input으로 넣어왔으니\n",
    "\n",
    "이에 dimension을 하나 추가한 4D array를 받습니다."
   ]
  },
  {
   "cell_type": "code",
   "execution_count": 8,
   "metadata": {
    "colab": {
     "base_uri": "https://localhost:8080/",
     "height": 36
    },
    "colab_type": "code",
    "executionInfo": {
     "elapsed": 1032,
     "status": "ok",
     "timestamp": 1578073929482,
     "user": {
      "displayName": "정연석",
      "photoUrl": "https://lh3.googleusercontent.com/-gZ94XzEsiVI/AAAAAAAAAAI/AAAAAAAABsQ/3qNV3wm9oSg/s64/photo.jpg",
      "userId": "03404237444539233131"
     },
     "user_tz": -540
    },
    "id": "1-iihz_PhvG-",
    "outputId": "1c43a68f-1f81-4ae1-8449-a3a4597f2642"
   },
   "outputs": [
    {
     "data": {
      "text/plain": [
       "(60000, 28, 28)"
      ]
     },
     "execution_count": 8,
     "metadata": {
      "tags": []
     },
     "output_type": "execute_result"
    }
   ],
   "source": [
    "## x의 shape 확인\n",
    "\n",
    "x.shape"
   ]
  },
  {
   "cell_type": "code",
   "execution_count": 9,
   "metadata": {
    "colab": {
     "base_uri": "https://localhost:8080/",
     "height": 36
    },
    "colab_type": "code",
    "executionInfo": {
     "elapsed": 697,
     "status": "ok",
     "timestamp": 1578073929487,
     "user": {
      "displayName": "정연석",
      "photoUrl": "https://lh3.googleusercontent.com/-gZ94XzEsiVI/AAAAAAAAAAI/AAAAAAAABsQ/3qNV3wm9oSg/s64/photo.jpg",
      "userId": "03404237444539233131"
     },
     "user_tz": -540
    },
    "id": "4RjV3NhuhvHK",
    "outputId": "e98df0bf-b9d9-44c7-cd41-6927848700d4"
   },
   "outputs": [
    {
     "data": {
      "text/plain": [
       "'\\nx = np.expand_dims(x, axis=3)\\nx_test = np.expand_dims(x_test, axis=3)\\n'"
      ]
     },
     "execution_count": 9,
     "metadata": {
      "tags": []
     },
     "output_type": "execute_result"
    }
   ],
   "source": [
    "# 4) reshape\n",
    "\n",
    "x = x.reshape(60000, 28, 28, 1)\n",
    "x_test = x_test.reshape(10000, 28, 28, 1)\n",
    "\n",
    "# 아래 코드로도 dimension을 추가하는 것이 가능합니다.\n",
    "\n",
    "'''\n",
    "x = np.expand_dims(x, axis=3)\n",
    "x_test = np.expand_dims(x_test, axis=3)\n",
    "'''"
   ]
  },
  {
   "cell_type": "code",
   "execution_count": 10,
   "metadata": {
    "colab": {
     "base_uri": "https://localhost:8080/",
     "height": 36
    },
    "colab_type": "code",
    "executionInfo": {
     "elapsed": 1663,
     "status": "ok",
     "timestamp": 1578073930819,
     "user": {
      "displayName": "정연석",
      "photoUrl": "https://lh3.googleusercontent.com/-gZ94XzEsiVI/AAAAAAAAAAI/AAAAAAAABsQ/3qNV3wm9oSg/s64/photo.jpg",
      "userId": "03404237444539233131"
     },
     "user_tz": -540
    },
    "id": "Q_5n1HudhvHT",
    "outputId": "53b41b87-a7f6-445e-dfd9-5a10a3b9ae60"
   },
   "outputs": [
    {
     "data": {
      "text/plain": [
       "(60000, 28, 28, 1)"
      ]
     },
     "execution_count": 10,
     "metadata": {
      "tags": []
     },
     "output_type": "execute_result"
    }
   ],
   "source": [
    "## x의 shape 다시 확인\n",
    "\n",
    "x.shape"
   ]
  },
  {
   "cell_type": "markdown",
   "metadata": {
    "colab_type": "text",
    "id": "HNIPg1BxhvHi"
   },
   "source": [
    "----------"
   ]
  },
  {
   "cell_type": "markdown",
   "metadata": {
    "colab_type": "text",
    "id": "hz-gnpkBhvHl"
   },
   "source": [
    "## 4. 모델 만들기"
   ]
  },
  {
   "cell_type": "markdown",
   "metadata": {
    "colab_type": "text",
    "id": "Ko-agvguhvHq"
   },
   "source": [
    "### 1) 똑같은 layer\n",
    "\n",
    "길게 쓰기 귀찮아서 짧은 버전이 있으니 편한 것으로 쓰시면 됩니다.\n",
    "\n",
    "'Conv2D' == 'Convolution2D' / \n",
    "'MaxPool2D' == 'MaxPooling2D'\n",
    "\n",
    "### 2) CNN도 규칙이 있습니다.\n",
    "\n",
    "(Conv(Maxpool) -> Flatten -> Dense 흐름으로 갑니다.)\n",
    "\n",
    "1> input_shape 맞춰주기 (3D shape이 들어가야하며, 현재는 흑백이미지여서 channel을 1로 설정)\n",
    "\n",
    "2> output layer의 unit 개수\n",
    "\n",
    "3> output laeyer의 activation function"
   ]
  },
  {
   "cell_type": "code",
   "execution_count": null,
   "metadata": {
    "colab": {},
    "colab_type": "code",
    "id": "vr3x3W3bhvHt"
   },
   "outputs": [],
   "source": [
    "from tensorflow.keras.models import Sequential\n",
    "from tensorflow.keras.layers import Conv2D, MaxPooling2D, Dense, Flatten"
   ]
  },
  {
   "cell_type": "code",
   "execution_count": null,
   "metadata": {
    "colab": {},
    "colab_type": "code",
    "id": "Lzlnj7SbhvH4"
   },
   "outputs": [],
   "source": [
    "def create_cnn():\n",
    "    model = Sequential()\n",
    "    model.add(Conv2D(32, (3, 3), activation='relu', input_shape=(28, 28, 1)))\n",
    "    model.add(MaxPooling2D())\n",
    "    model.add(Conv2D(64, (3, 3), activation='relu'))\n",
    "    model.add(MaxPooling2D((2, 2)))\n",
    "    model.add(Conv2D(64, (3, 3), activation='relu'))\n",
    "    model.add(Flatten())\n",
    "    model.add(Dense(64, activation='relu'))\n",
    "    model.add(Dense(10, activation='softmax'))\n",
    "    \n",
    "    model.compile(optimizer='adam',\n",
    "              loss='categorical_crossentropy',\n",
    "              metrics=['accuracy'])\n",
    "    \n",
    "    return model"
   ]
  },
  {
   "cell_type": "code",
   "execution_count": 13,
   "metadata": {
    "colab": {
     "base_uri": "https://localhost:8080/",
     "height": 463
    },
    "colab_type": "code",
    "executionInfo": {
     "elapsed": 882,
     "status": "ok",
     "timestamp": 1578073937905,
     "user": {
      "displayName": "정연석",
      "photoUrl": "https://lh3.googleusercontent.com/-gZ94XzEsiVI/AAAAAAAAAAI/AAAAAAAABsQ/3qNV3wm9oSg/s64/photo.jpg",
      "userId": "03404237444539233131"
     },
     "user_tz": -540
    },
    "id": "o05eytB7hvIG",
    "outputId": "6c22f36a-f346-4a2f-c65a-89f26056d821"
   },
   "outputs": [
    {
     "name": "stdout",
     "output_type": "stream",
     "text": [
      "Model: \"sequential\"\n",
      "_________________________________________________________________\n",
      "Layer (type)                 Output Shape              Param #   \n",
      "=================================================================\n",
      "conv2d (Conv2D)              (None, 26, 26, 32)        320       \n",
      "_________________________________________________________________\n",
      "max_pooling2d (MaxPooling2D) (None, 13, 13, 32)        0         \n",
      "_________________________________________________________________\n",
      "conv2d_1 (Conv2D)            (None, 11, 11, 64)        18496     \n",
      "_________________________________________________________________\n",
      "max_pooling2d_1 (MaxPooling2 (None, 5, 5, 64)          0         \n",
      "_________________________________________________________________\n",
      "conv2d_2 (Conv2D)            (None, 3, 3, 64)          36928     \n",
      "_________________________________________________________________\n",
      "flatten (Flatten)            (None, 576)               0         \n",
      "_________________________________________________________________\n",
      "dense (Dense)                (None, 64)                36928     \n",
      "_________________________________________________________________\n",
      "dense_1 (Dense)              (None, 10)                650       \n",
      "=================================================================\n",
      "Total params: 93,322\n",
      "Trainable params: 93,322\n",
      "Non-trainable params: 0\n",
      "_________________________________________________________________\n"
     ]
    }
   ],
   "source": [
    "model = create_cnn()\n",
    "model.summary()"
   ]
  },
  {
   "cell_type": "markdown",
   "metadata": {
    "colab_type": "text",
    "id": "rU6NRjanhvIS"
   },
   "source": [
    "## 5. 학습\n",
    "\n",
    "이전 Dense layer 학습과 차이점을 관찰하시기 바랍니다."
   ]
  },
  {
   "cell_type": "code",
   "execution_count": 15,
   "metadata": {
    "colab": {
     "base_uri": "https://localhost:8080/",
     "height": 221
    },
    "colab_type": "code",
    "executionInfo": {
     "elapsed": 197982,
     "status": "ok",
     "timestamp": 1578074243741,
     "user": {
      "displayName": "정연석",
      "photoUrl": "https://lh3.googleusercontent.com/-gZ94XzEsiVI/AAAAAAAAAAI/AAAAAAAABsQ/3qNV3wm9oSg/s64/photo.jpg",
      "userId": "03404237444539233131"
     },
     "user_tz": -540
    },
    "id": "P93U6SQ-hvIW",
    "outputId": "d067a229-ef6f-4ada-ed3a-2dd324a73e3b"
   },
   "outputs": [
    {
     "name": "stdout",
     "output_type": "stream",
     "text": [
      "Train on 50000 samples, validate on 10000 samples\n",
      "Epoch 1/5\n",
      "50000/50000 [==============================] - 39s 781us/sample - loss: 0.2730 - accuracy: 0.8993 - val_loss: 0.2949 - val_accuracy: 0.8923\n",
      "Epoch 2/5\n",
      "50000/50000 [==============================] - 39s 784us/sample - loss: 0.2453 - accuracy: 0.9089 - val_loss: 0.2809 - val_accuracy: 0.8963\n",
      "Epoch 3/5\n",
      "50000/50000 [==============================] - 40s 791us/sample - loss: 0.2220 - accuracy: 0.9179 - val_loss: 0.2742 - val_accuracy: 0.8997\n",
      "Epoch 4/5\n",
      "50000/50000 [==============================] - 40s 794us/sample - loss: 0.2027 - accuracy: 0.9246 - val_loss: 0.2603 - val_accuracy: 0.9091\n",
      "Epoch 5/5\n",
      "50000/50000 [==============================] - 40s 790us/sample - loss: 0.1851 - accuracy: 0.9311 - val_loss: 0.2752 - val_accuracy: 0.8998\n"
     ]
    }
   ],
   "source": [
    "history = model.fit(x, y, epochs=5, validation_split=1/6)"
   ]
  },
  {
   "cell_type": "markdown",
   "metadata": {
    "colab_type": "text",
    "id": "1AqQQcPPhvIk"
   },
   "source": [
    "### 1) 시간이 오래걸린다.\n",
    "\n",
    "인접 정보만 연산하면 시간이 줄어야하는 것 아닌가?\n",
    "\n",
    "parameter 자체는 줄었을 수도 있지만 하나의 kernel로 여러번 연산을 하니 연산량 자체가 많아집니다.\n",
    "\n",
    "### 2) Dense layer epoch 5회 돌리면 0.85 수준인데 CNN은 0.9 정도 나옵니다.\n",
    "\n",
    "### 3) batch_size 늘리면 메모리가 터지는 error가 납니다."
   ]
  },
  {
   "cell_type": "code",
   "execution_count": null,
   "metadata": {
    "colab": {},
    "colab_type": "code",
    "id": "eS4EFuiIhvIm"
   },
   "outputs": [],
   "source": [
    "# 실행하지 마세요.\n",
    "\n",
    "history = model.fit(x, y, epochs=5, validation_split=1/6, batch_size = 50000) # 50000으로 설정하면 무조건 error 납니다."
   ]
  },
  {
   "cell_type": "markdown",
   "metadata": {
    "colab_type": "text",
    "id": "TVplE5X5hvI6"
   },
   "source": [
    "-------"
   ]
  },
  {
   "cell_type": "code",
   "execution_count": null,
   "metadata": {
    "colab": {},
    "colab_type": "code",
    "id": "LRW5TDIQl54R"
   },
   "outputs": [],
   "source": []
  }
 ],
 "metadata": {
  "accelerator": "GPU",
  "colab": {
   "name": "Convolution Neural Network.ipynb",
   "provenance": []
  },
  "kernelspec": {
   "display_name": "Python 3",
   "language": "python",
   "name": "python3"
  },
  "language_info": {
   "codemirror_mode": {
    "name": "ipython",
    "version": 3
   },
   "file_extension": ".py",
   "mimetype": "text/x-python",
   "name": "python",
   "nbconvert_exporter": "python",
   "pygments_lexer": "ipython3",
   "version": "3.5.4"
  }
 },
 "nbformat": 4,
 "nbformat_minor": 4
}
