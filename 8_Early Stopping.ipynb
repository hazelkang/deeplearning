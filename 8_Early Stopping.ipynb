{
 "cells": [
  {
   "cell_type": "markdown",
   "metadata": {},
   "source": [
    "# Early Stopping"
   ]
  },
  {
   "cell_type": "markdown",
   "metadata": {},
   "source": [
    "------"
   ]
  },
  {
   "cell_type": "markdown",
   "metadata": {},
   "source": [
    "# 0 .기존 작업"
   ]
  },
  {
   "cell_type": "code",
   "execution_count": 1,
   "metadata": {},
   "outputs": [
    {
     "name": "stdout",
     "output_type": "stream",
     "text": [
      "Model: \"sequential\"\n",
      "_________________________________________________________________\n",
      "Layer (type)                 Output Shape              Param #   \n",
      "=================================================================\n",
      "flatten (Flatten)            (None, 784)               0         \n",
      "_________________________________________________________________\n",
      "dense (Dense)                (None, 32)                25120     \n",
      "_________________________________________________________________\n",
      "dense_1 (Dense)              (None, 64)                2112      \n",
      "_________________________________________________________________\n",
      "dense_2 (Dense)              (None, 128)               8320      \n",
      "_________________________________________________________________\n",
      "dense_3 (Dense)              (None, 10)                1290      \n",
      "=================================================================\n",
      "Total params: 36,842\n",
      "Trainable params: 36,842\n",
      "Non-trainable params: 0\n",
      "_________________________________________________________________\n"
     ]
    }
   ],
   "source": [
    "from tensorflow.keras.datasets import fashion_mnist\n",
    "\n",
    "(x, y), (x_test, y_test) = fashion_mnist.load_data()\n",
    "\n",
    "\n",
    "from tensorflow.keras.utils import to_categorical\n",
    "\n",
    "x = x.astype('float32') \n",
    "x_test = x_test.astype('float32')\n",
    "\n",
    "x /= 255\n",
    "x_test /= 255\n",
    "\n",
    "y = to_categorical(y, 10)\n",
    "y_test = to_categorical(y_test, 10)\n",
    "\n",
    "\n",
    "from tensorflow.keras.models import Sequential\n",
    "from tensorflow.keras.layers import Dense, Flatten\n",
    "\n",
    "def create_model():\n",
    "    model = Sequential()\n",
    "    model.add(Flatten(input_shape=(28, 28)))\n",
    "    model.add(Dense(units=32, activation='relu'))\n",
    "    model.add(Dense(64, 'relu'))\n",
    "    model.add(Dense(128, 'relu'))\n",
    "    model.add(Dense(units=10, activation='softmax'))\n",
    "    \n",
    "    model.compile(optimizer='adam', \n",
    "                  loss='categorical_crossentropy',\n",
    "                 metrics=['accuracy'])\n",
    "\n",
    "    return model\n",
    "\n",
    "model = create_model()\n",
    "model.summary()"
   ]
  },
  {
   "cell_type": "markdown",
   "metadata": {},
   "source": [
    "---"
   ]
  },
  {
   "cell_type": "markdown",
   "metadata": {},
   "source": [
    "# 1. callback 만들기\n",
    "\n",
    "https://keras.io/callbacks/#earlystopping\n",
    "\n",
    "- monitor: early stopping을 결정하는 기준\n",
    "- min_delta: 이거보다 변화가 작으면 멈춘다.\n",
    "- patience: 이 숫자의 epoch만큼 변하지 개선(감소)되지 않으면 멈춘다. (2로 설정시, 2연속 val_loss가 증가하면 train 중지)\n"
   ]
  },
  {
   "cell_type": "code",
   "execution_count": 2,
   "metadata": {},
   "outputs": [],
   "source": [
    "from tensorflow.keras.callbacks import EarlyStopping"
   ]
  },
  {
   "cell_type": "code",
   "execution_count": 3,
   "metadata": {},
   "outputs": [],
   "source": [
    "es = EarlyStopping(monitor='val_loss', patience=2)"
   ]
  },
  {
   "cell_type": "code",
   "execution_count": 4,
   "metadata": {},
   "outputs": [
    {
     "name": "stdout",
     "output_type": "stream",
     "text": [
      "Epoch 1/20\n",
      "98/98 [==============================] - 2s 18ms/step - accuracy: 0.6781 - loss: 0.9138 - val_accuracy: 0.8133 - val_loss: 0.5266\n",
      "Epoch 2/20\n",
      "98/98 [==============================] - 1s 11ms/step - accuracy: 0.8323 - loss: 0.4809 - val_accuracy: 0.8315 - val_loss: 0.4716\n",
      "Epoch 3/20\n",
      "98/98 [==============================] - 1s 12ms/step - accuracy: 0.8460 - loss: 0.4318 - val_accuracy: 0.8513 - val_loss: 0.4212\n",
      "Epoch 4/20\n",
      "98/98 [==============================] - ETA: 0s - accuracy: 0.8572 - loss: 0.40 - ETA: 0s - accuracy: 0.8575 - loss: 0.40 - 1s 12ms/step - accuracy: 0.8574 - loss: 0.4011 - val_accuracy: 0.8548 - val_loss: 0.4076\n",
      "Epoch 5/20\n",
      "98/98 [==============================] - 1s 11ms/step - accuracy: 0.8647 - loss: 0.3786 - val_accuracy: 0.8605 - val_loss: 0.3939\n",
      "Epoch 6/20\n",
      "98/98 [==============================] - 1s 11ms/step - accuracy: 0.8706 - loss: 0.3616 - val_accuracy: 0.8535 - val_loss: 0.4041\n",
      "Epoch 7/20\n",
      "98/98 [==============================] - 1s 12ms/step - accuracy: 0.8760 - loss: 0.3481 - val_accuracy: 0.8638 - val_loss: 0.3738\n",
      "Epoch 8/20\n",
      "98/98 [==============================] - 1s 12ms/step - accuracy: 0.8771 - loss: 0.3400 - val_accuracy: 0.8579 - val_loss: 0.3841\n",
      "Epoch 9/20\n",
      "98/98 [==============================] - 1s 13ms/step - accuracy: 0.8796 - loss: 0.3329 - val_accuracy: 0.8679 - val_loss: 0.3683\n",
      "Epoch 10/20\n",
      "98/98 [==============================] - 1s 12ms/step - accuracy: 0.8829 - loss: 0.3233 - val_accuracy: 0.8690 - val_loss: 0.3602\n",
      "Epoch 11/20\n",
      "98/98 [==============================] - 1s 12ms/step - accuracy: 0.8854 - loss: 0.3147 - val_accuracy: 0.8715 - val_loss: 0.3544\n",
      "Epoch 12/20\n",
      "98/98 [==============================] - 1s 12ms/step - accuracy: 0.8885 - loss: 0.3065 - val_accuracy: 0.8723 - val_loss: 0.3543\n",
      "Epoch 13/20\n",
      "98/98 [==============================] - 1s 12ms/step - accuracy: 0.8882 - loss: 0.3041 - val_accuracy: 0.8704 - val_loss: 0.3554\n",
      "Epoch 14/20\n",
      "98/98 [==============================] - 1s 12ms/step - accuracy: 0.8913 - loss: 0.2965 - val_accuracy: 0.8764 - val_loss: 0.3482\n",
      "Epoch 15/20\n",
      "98/98 [==============================] - 1s 12ms/step - accuracy: 0.8930 - loss: 0.2906 - val_accuracy: 0.8749 - val_loss: 0.3482\n",
      "Epoch 16/20\n",
      "98/98 [==============================] - 1s 13ms/step - accuracy: 0.8967 - loss: 0.2818 - val_accuracy: 0.8737 - val_loss: 0.3501\n"
     ]
    }
   ],
   "source": [
    "model = create_model()\n",
    "\n",
    "history = model.fit(x, y,  epochs = 20, validation_split = 1/6,callbacks = [es], batch_size= 512)"
   ]
  },
  {
   "cell_type": "code",
   "execution_count": 5,
   "metadata": {},
   "outputs": [],
   "source": [
    "import matplotlib.pyplot as plt"
   ]
  },
  {
   "cell_type": "code",
   "execution_count": 6,
   "metadata": {},
   "outputs": [
    {
     "data": {
      "image/png": "[encoded data removed]",
      "text/plain": [
       "<Figure size 1440x360 with 1 Axes>"
      ]
     },
     "metadata": {
      "needs_background": "light"
     },
     "output_type": "display_data"
    }
   ],
   "source": [
    "loss = history.history['loss']\n",
    "val_loss = history.history['val_loss']\n",
    "\n",
    "epochs = range(1, len(loss) + 1)\n",
    "\n",
    "plt.figure(figsize=(20,5))\n",
    "plt.plot(epochs, loss, 'r', label = 'Training loss')\n",
    "plt.plot(epochs, val_loss, 'b', label = 'Validation loss')\n",
    "plt.title('Training and validation loss')\n",
    "plt.xlabel('Epochs')\n",
    "plt.ylabel('Loss')\n",
    "plt.legend() \n",
    "plt.xlim(7,13)\n",
    "plt.ylim(0.3,0.4)\n",
    "\n",
    "plt.show()"
   ]
  },
  {
   "cell_type": "code",
   "execution_count": null,
   "metadata": {},
   "outputs": [],
   "source": []
  }
 ],
 "metadata": {
  "kernelspec": {
   "display_name": "Python 3",
   "language": "python",
   "name": "python3"
  },
  "language_info": {
   "codemirror_mode": {
    "name": "ipython",
    "version": 3
   },
   "file_extension": ".py",
   "mimetype": "text/x-python",
   "name": "python",
   "nbconvert_exporter": "python",
   "pygments_lexer": "ipython3",
   "version": "3.5.4"
  }
 },
 "nbformat": 4,
 "nbformat_minor": 4
}
